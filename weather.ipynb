{
 "cells": [
  {
   "cell_type": "code",
   "execution_count": 1,
   "id": "ef16e65e",
   "metadata": {},
   "outputs": [
    {
     "name": "stderr",
     "output_type": "stream",
     "text": [
      "[Stage 2:============================================>              (3 + 1) / 4]\r"
     ]
    },
    {
     "name": "stdout",
     "output_type": "stream",
     "text": [
      "+----------+---------+-------------------+------+----------+----------+----------+----------------+-------------+----------------+------------------+------------------+----------------------+------------------+-----------------+\n",
      "|station_id|city_name|               date|season|avg_temp_c|min_temp_c|max_temp_c|precipitation_mm|snow_depth_mm|avg_wind_dir_deg|avg_wind_speed_kmh|peak_wind_gust_kmh|avg_sea_level_pres_hpa|sunshine_total_min|__index_level_0__|\n",
      "+----------+---------+-------------------+------+----------+----------+----------+----------------+-------------+----------------+------------------+------------------+----------------------+------------------+-----------------+\n",
      "|     41515| Asadabad|1957-07-01 01:00:00|Summer|      27.0|      21.1|      35.6|             0.0|         null|            null|              null|              null|                  null|              null|                0|\n",
      "|     41515| Asadabad|1957-07-02 01:00:00|Summer|      22.8|      18.9|      32.2|             0.0|         null|            null|              null|              null|                  null|              null|                1|\n",
      "+----------+---------+-------------------+------+----------+----------+----------+----------------+-------------+----------------+------------------+------------------+----------------------+------------------+-----------------+\n",
      "only showing top 2 rows\n",
      "\n"
     ]
    },
    {
     "name": "stderr",
     "output_type": "stream",
     "text": [
      "\r",
      "                                                                                \r"
     ]
    }
   ],
   "source": [
    "from pyspark.sql import SparkSession\n",
    "\n",
    "#Read csv with Spark\n",
    "spark = SparkSession.builder \\\n",
    "    .appName(\"Weather ANN\") \\\n",
    "    .getOrCreate()\n",
    "df = spark.read.parquet(\"/daily_weather.parquet\")\n",
    "df.show(2)"
   ]
  },
  {
   "cell_type": "code",
   "execution_count": 2,
   "id": "7fd4137d",
   "metadata": {},
   "outputs": [
    {
     "name": "stdout",
     "output_type": "stream",
     "text": [
      "+----------+----------+----------+------+\n",
      "|avg_temp_c|min_temp_c|max_temp_c|season|\n",
      "+----------+----------+----------+------+\n",
      "|      27.0|      21.1|      35.6|Summer|\n",
      "|      22.8|      18.9|      32.2|Summer|\n",
      "|      24.3|      16.7|      35.6|Summer|\n",
      "+----------+----------+----------+------+\n",
      "only showing top 3 rows\n",
      "\n"
     ]
    }
   ],
   "source": [
    "from pyspark.sql import SparkSession\n",
    "\n",
    "#Selecting columns\n",
    "selected_columns = ['avg_temp_c', 'min_temp_c', 'max_temp_c', 'season']\n",
    "df = df.select(selected_columns)\n",
    "\n",
    "# Show first 3\n",
    "df.show(3)"
   ]
  },
  {
   "cell_type": "code",
   "execution_count": 3,
   "id": "2a8dff0f",
   "metadata": {},
   "outputs": [
    {
     "name": "stderr",
     "output_type": "stream",
     "text": [
      "                                                                                \r"
     ]
    },
    {
     "name": "stdout",
     "output_type": "stream",
     "text": [
      "Datasetinde 4 çeşit sezon bulunmaktadır.\n"
     ]
    },
    {
     "name": "stderr",
     "output_type": "stream",
     "text": [
      "\r",
      "[Stage 11:===================================================>     (9 + 1) / 10]\r"
     ]
    },
    {
     "name": "stdout",
     "output_type": "stream",
     "text": [
      "+------+\n",
      "|season|\n",
      "+------+\n",
      "|Spring|\n",
      "|Summer|\n",
      "|Autumn|\n",
      "|Winter|\n",
      "+------+\n",
      "\n"
     ]
    },
    {
     "name": "stderr",
     "output_type": "stream",
     "text": [
      "\r",
      "                                                                                \r"
     ]
    }
   ],
   "source": [
    "# Count the distinct seasons in the dataset\n",
    "distinct_season_count = df.select(\"season\").distinct().count()\n",
    "\n",
    "# Print the number of unique seasons\n",
    "print(f\"Datasetinde {distinct_season_count} çeşit sezon bulunmaktadır.\")\n",
    "\n",
    "# Display the distinct seasons\n",
    "s = df.select(\"season\").distinct()\n",
    "s.show()"
   ]
  },
  {
   "cell_type": "code",
   "execution_count": 4,
   "id": "91c9825f",
   "metadata": {
    "scrolled": false
   },
   "outputs": [
    {
     "name": "stderr",
     "output_type": "stream",
     "text": [
      "                                                                                \r"
     ]
    },
    {
     "name": "stdout",
     "output_type": "stream",
     "text": [
      "+------+-----------+-------------+\n",
      "|season|seasonIndex|    seasonVec|\n",
      "+------+-----------+-------------+\n",
      "|Spring|        1.0|(3,[1],[1.0])|\n",
      "|Summer|        2.0|(3,[2],[1.0])|\n",
      "|Autumn|        0.0|(3,[0],[1.0])|\n",
      "|Winter|        3.0|    (3,[],[])|\n",
      "+------+-----------+-------------+\n",
      "\n"
     ]
    }
   ],
   "source": [
    "from pyspark.sql import SparkSession\n",
    "from pyspark.ml.feature import StringIndexer, OneHotEncoder\n",
    "from pyspark.sql import Row\n",
    "\n",
    "# Create a SparkSession\n",
    "spark = SparkSession.builder.appName(\"OneHotEncoding\").getOrCreate()\n",
    "\n",
    "# Sample data\n",
    "data = [Row(season=\"Spring\"),\n",
    "        Row(season=\"Summer\"),\n",
    "        Row(season=\"Autumn\"),\n",
    "        Row(season=\"Winter\")]\n",
    "\n",
    "df_season = spark.createDataFrame(data)\n",
    "\n",
    "# Use StringIndexer to convert seasons to numbers\n",
    "indexer = StringIndexer(inputCol=\"season\", outputCol=\"seasonIndex\")\n",
    "indexed = indexer.fit(df_season).transform(df_season)\n",
    "\n",
    "# Apply OneHotEncoding\n",
    "encoder = OneHotEncoder(inputCol=\"seasonIndex\", outputCol=\"seasonVec\")\n",
    "encoded = encoder.fit(indexed).transform(indexed)\n",
    "encoded.show()"
   ]
  },
  {
   "cell_type": "code",
   "execution_count": 5,
   "id": "3811181d",
   "metadata": {},
   "outputs": [
    {
     "name": "stderr",
     "output_type": "stream",
     "text": [
      "[Stage 20:===================================================>     (9 + 1) / 10]\r"
     ]
    },
    {
     "name": "stdout",
     "output_type": "stream",
     "text": [
      "+------+----------+----------+----------+-----------+-------------+\n",
      "|season|avg_temp_c|min_temp_c|max_temp_c|seasonIndex|    seasonVec|\n",
      "+------+----------+----------+----------+-----------+-------------+\n",
      "|Summer|      27.0|      21.1|      35.6|        2.0|(3,[2],[1.0])|\n",
      "|Summer|      22.8|      18.9|      32.2|        2.0|(3,[2],[1.0])|\n",
      "|Summer|      24.3|      16.7|      35.6|        2.0|(3,[2],[1.0])|\n",
      "+------+----------+----------+----------+-----------+-------------+\n",
      "only showing top 3 rows\n",
      "\n"
     ]
    },
    {
     "name": "stderr",
     "output_type": "stream",
     "text": [
      "\r",
      "                                                                                \r"
     ]
    }
   ],
   "source": [
    "# Merge 'df' and 'encoded' dataframes based on the 'season' column\n",
    "merged_df = df.join(encoded, on='season', how='left')\n",
    "\n",
    "# Display the first few rows\n",
    "merged_df.show(3)"
   ]
  },
  {
   "cell_type": "code",
   "execution_count": 6,
   "id": "0e55a41d",
   "metadata": {
    "scrolled": false
   },
   "outputs": [
    {
     "name": "stderr",
     "output_type": "stream",
     "text": [
      "\r",
      "[Stage 25:===================================================>     (9 + 1) / 10]\r"
     ]
    },
    {
     "name": "stdout",
     "output_type": "stream",
     "text": [
      "+----------+----------+----------+-----------+\n",
      "|avg_temp_c|min_temp_c|max_temp_c|seasonIndex|\n",
      "+----------+----------+----------+-----------+\n",
      "|      27.0|      21.1|      35.6|        2.0|\n",
      "|      22.8|      18.9|      32.2|        2.0|\n",
      "|      24.3|      16.7|      35.6|        2.0|\n",
      "+----------+----------+----------+-----------+\n",
      "only showing top 3 rows\n",
      "\n"
     ]
    },
    {
     "name": "stderr",
     "output_type": "stream",
     "text": [
      "\r",
      "                                                                                \r"
     ]
    }
   ],
   "source": [
    "# Select only the specified columns.\n",
    "selected_df = merged_df.select( 'avg_temp_c', 'min_temp_c', 'max_temp_c', 'seasonIndex')\n",
    "\n",
    "# Display the first few rows\n",
    "selected_df.show(3)"
   ]
  },
  {
   "cell_type": "code",
   "execution_count": 7,
   "id": "cfb35235",
   "metadata": {},
   "outputs": [
    {
     "name": "stderr",
     "output_type": "stream",
     "text": [
      "[Stage 34:>                                                         (0 + 1) / 1]\r"
     ]
    },
    {
     "name": "stdout",
     "output_type": "stream",
     "text": [
      "+----------+----------+----------+-----------+\n",
      "|avg_temp_c|min_temp_c|max_temp_c|seasonIndex|\n",
      "+----------+----------+----------+-----------+\n",
      "|       7.4|       5.0|      12.2|        1.0|\n",
      "|       5.8|       2.2|      12.8|        1.0|\n",
      "|     -10.1|     -16.4|      -4.0|        1.0|\n",
      "|       6.6|       1.1|      16.1|        1.0|\n",
      "|      -6.8|     -11.5|      -3.7|        1.0|\n",
      "|       7.1|       1.7|      14.4|        1.0|\n",
      "|      -4.3|      -6.8|      -1.4|        1.0|\n",
      "|      -0.6|      -2.5|       1.2|        1.0|\n",
      "|      11.4|       6.1|      18.3|        1.0|\n",
      "|      10.7|       9.4|      13.3|        1.0|\n",
      "|      -2.2|      -6.3|       2.7|        1.0|\n",
      "|       7.9|       5.6|      13.3|        1.0|\n",
      "|       9.3|       4.4|      15.0|        1.0|\n",
      "|       8.9|       3.9|      18.3|        1.0|\n",
      "|       8.7|       6.7|      17.2|        1.0|\n",
      "|       9.8|       5.0|      21.1|        1.0|\n",
      "|      -8.0|     -14.2|      -3.0|        1.0|\n",
      "|      12.3|       6.1|      20.6|        1.0|\n",
      "|      12.8|       7.8|      22.8|        1.0|\n",
      "|      -6.7|     -16.0|       0.5|        1.0|\n",
      "+----------+----------+----------+-----------+\n",
      "only showing top 20 rows\n",
      "\n"
     ]
    },
    {
     "name": "stderr",
     "output_type": "stream",
     "text": [
      "\r",
      "                                                                                \r"
     ]
    }
   ],
   "source": [
    "# Remove any rows with null or NaN values\n",
    "selected_df = selected_df.dropna()\n",
    "selected_df.show()"
   ]
  },
  {
   "cell_type": "code",
   "execution_count": null,
   "id": "8ec83b5b",
   "metadata": {},
   "outputs": [],
   "source": [
    "from pyspark.sql import SparkSession\n",
    "from pyspark.ml.feature import VectorAssembler, OneHotEncoder, StringIndexer\n",
    "from pyspark.ml.classification import MultilayerPerceptronClassifier\n",
    "from pyspark.ml.evaluation import MulticlassClassificationEvaluator\n",
    "\n",
    "# Convert the features into a vector\n",
    "vectorAssembler = VectorAssembler(inputCols=[\"avg_temp_c\", \"min_temp_c\", \"max_temp_c\"], outputCol=\"features\")\n",
    "df = vectorAssembler.transform(selected_df)\n",
    "\n",
    "# Index the categorical label\n",
    "labelIndexer = StringIndexer(inputCol=\"seasonIndex\", outputCol=\"label\").fit(selected_df)\n",
    "df = labelIndexer.transform(selected_df)"
   ]
  },
  {
   "cell_type": "code",
   "execution_count": null,
   "id": "3daa662c",
   "metadata": {},
   "outputs": [],
   "source": [
    "# Split the data into training and testing sets\n",
    "train_data, test_data = df.randomSplit([0.8, 0.2], seed=1234)\n",
    "\n",
    "# Define the architecture for the MLP model\n",
    "num_labels = train_data.select(\"label\").distinct().count()\n",
    "layers = [3, 5, 5, num_labels]\n",
    "\n",
    "mlp = MultilayerPerceptronClassifier(\n",
    "    layers=layers, \n",
    "    blockSize=128, \n",
    "    seed=1234, \n",
    "    maxIter=100, \n",
    "    featuresCol=\"features\", \n",
    "    labelCol=\"label\"\n",
    ")\n",
    "\n",
    "# Train the model\n",
    "model = mlp.fit(train_data)\n",
    "\n",
    "# Make predictions\n",
    "train_predictions = model.transform(train_data)\n",
    "test_predictions = model.transform(test_data)\n",
    "\n",
    "# Evaluate the model\n",
    "evaluator = MulticlassClassificationEvaluator(metricName=\"accuracy\")\n",
    "train_accuracy = evaluator.evaluate(train_predictions)\n",
    "test_accuracy = evaluator.evaluate(test_predictions)\n",
    "\n",
    "print(f\"Training Accuracy: {train_accuracy * 100:.2f}%\")\n",
    "print(f\"Test Accuracy: {test_accuracy * 100:.2f}%\")\n"
   ]
  },
  {
   "cell_type": "code",
   "execution_count": 9,
   "id": "849cfa48",
   "metadata": {},
   "outputs": [
    {
     "name": "stderr",
     "output_type": "stream",
     "text": [
      "                                                                                \r"
     ]
    }
   ],
   "source": [
    "from pyspark.sql import SparkSession\n",
    "from pyspark.ml.feature import VectorAssembler, OneHotEncoder, StringIndexer\n",
    "from pyspark.ml.classification import MultilayerPerceptronClassifier\n",
    "from pyspark.ml.evaluation import MulticlassClassificationEvaluator\n",
    "\n",
    "# Convert the features into a vector\n",
    "vectorAssembler = VectorAssembler(inputCols=[\"avg_temp_c\", \"min_temp_c\", \"max_temp_c\"], outputCol=\"features\")\n",
    "df = vectorAssembler.transform(selected_df)\n",
    "\n",
    "# Index the categorical label\n",
    "labelIndexer = StringIndexer(inputCol=\"seasonIndex\", outputCol=\"label\").fit(selected_df)\n",
    "df = labelIndexer.transform(df)\n"
   ]
  },
  {
   "cell_type": "code",
   "execution_count": 10,
   "id": "e4e627a4",
   "metadata": {},
   "outputs": [
    {
     "name": "stderr",
     "output_type": "stream",
     "text": [
      "2023-10-10 22:12:33,622 WARN memory.MemoryStore: Not enough space to cache rdd_147_2 in memory! (computed 70.8 MiB so far)\n",
      "2023-10-10 22:12:33,627 WARN storage.BlockManager: Persisting block rdd_147_2 to disk instead.\n",
      "2023-10-10 22:12:34,156 WARN memory.MemoryStore: Not enough space to cache rdd_147_0 in memory! (computed 70.8 MiB so far)\n",
      "2023-10-10 22:12:34,157 WARN storage.BlockManager: Persisting block rdd_147_0 to disk instead.\n",
      "2023-10-10 22:12:34,864 WARN memory.MemoryStore: Not enough space to cache rdd_147_1 in memory! (computed 70.8 MiB so far)\n",
      "2023-10-10 22:12:34,865 WARN storage.BlockManager: Persisting block rdd_147_1 to disk instead.\n",
      "2023-10-10 22:12:36,821 WARN memory.MemoryStore: Not enough space to cache rdd_147_2 in memory! (computed 106.2 MiB so far)\n",
      "2023-10-10 22:12:37,443 WARN memory.MemoryStore: Not enough space to cache rdd_147_0 in memory! (computed 106.2 MiB so far)\n",
      "2023-10-10 22:12:38,259 WARN memory.MemoryStore: Not enough space to cache rdd_147_1 in memory! (computed 160.7 MiB so far)\n",
      "2023-10-10 22:12:38,520 WARN memory.MemoryStore: Not enough space to cache rdd_147_1 in memory! (computed 47.1 MiB so far)\n",
      "2023-10-10 22:12:38,551 WARN memory.MemoryStore: Not enough space to cache rdd_147_2 in memory! (computed 70.8 MiB so far)\n",
      "2023-10-10 22:12:38,554 WARN memory.MemoryStore: Not enough space to cache rdd_147_0 in memory! (computed 70.8 MiB so far)\n",
      "2023-10-10 22:12:42,036 WARN memory.MemoryStore: Not enough space to cache rdd_147_1 in memory! (computed 47.1 MiB so far)\n",
      "2023-10-10 22:12:42,063 WARN memory.MemoryStore: Not enough space to cache rdd_147_2 in memory! (computed 70.8 MiB so far)\n",
      "2023-10-10 22:12:42,066 WARN memory.MemoryStore: Not enough space to cache rdd_147_0 in memory! (computed 70.8 MiB so far)\n",
      "2023-10-10 22:12:45,268 WARN memory.MemoryStore: Not enough space to cache rdd_147_0 in memory! (computed 47.1 MiB so far)\n",
      "2023-10-10 22:12:45,273 WARN memory.MemoryStore: Not enough space to cache rdd_147_1 in memory! (computed 70.8 MiB so far)\n",
      "2023-10-10 22:12:45,277 WARN memory.MemoryStore: Not enough space to cache rdd_147_2 in memory! (computed 70.8 MiB so far)\n",
      "2023-10-10 22:12:48,651 WARN memory.MemoryStore: Not enough space to cache rdd_147_1 in memory! (computed 47.1 MiB so far)\n",
      "2023-10-10 22:12:48,670 WARN memory.MemoryStore: Not enough space to cache rdd_147_0 in memory! (computed 70.8 MiB so far)\n",
      "2023-10-10 22:12:48,675 WARN memory.MemoryStore: Not enough space to cache rdd_147_2 in memory! (computed 70.8 MiB so far)\n",
      "2023-10-10 22:12:51,822 WARN memory.MemoryStore: Not enough space to cache rdd_147_0 in memory! (computed 47.1 MiB so far)\n",
      "2023-10-10 22:12:51,845 WARN memory.MemoryStore: Not enough space to cache rdd_147_1 in memory! (computed 70.8 MiB so far)\n",
      "2023-10-10 22:12:51,846 WARN memory.MemoryStore: Not enough space to cache rdd_147_2 in memory! (computed 70.8 MiB so far)\n",
      "2023-10-10 22:12:55,135 WARN memory.MemoryStore: Not enough space to cache rdd_147_0 in memory! (computed 47.1 MiB so far)\n",
      "2023-10-10 22:12:55,159 WARN memory.MemoryStore: Not enough space to cache rdd_147_2 in memory! (computed 70.8 MiB so far)\n",
      "2023-10-10 22:12:55,165 WARN memory.MemoryStore: Not enough space to cache rdd_147_1 in memory! (computed 70.8 MiB so far)\n",
      "2023-10-10 22:12:58,590 WARN memory.MemoryStore: Not enough space to cache rdd_147_0 in memory! (computed 47.1 MiB so far)\n",
      "2023-10-10 22:12:58,609 WARN memory.MemoryStore: Not enough space to cache rdd_147_1 in memory! (computed 70.8 MiB so far)\n",
      "2023-10-10 22:12:58,613 WARN memory.MemoryStore: Not enough space to cache rdd_147_2 in memory! (computed 70.8 MiB so far)\n",
      "2023-10-10 22:13:01,868 WARN memory.MemoryStore: Not enough space to cache rdd_147_0 in memory! (computed 47.1 MiB so far)\n",
      "2023-10-10 22:13:01,892 WARN memory.MemoryStore: Not enough space to cache rdd_147_2 in memory! (computed 70.8 MiB so far)\n",
      "2023-10-10 22:13:01,893 WARN memory.MemoryStore: Not enough space to cache rdd_147_1 in memory! (computed 70.8 MiB so far)\n",
      "2023-10-10 22:13:05,368 WARN memory.MemoryStore: Not enough space to cache rdd_147_1 in memory! (computed 47.1 MiB so far)\n",
      "2023-10-10 22:13:05,385 WARN memory.MemoryStore: Not enough space to cache rdd_147_0 in memory! (computed 70.8 MiB so far)\n",
      "2023-10-10 22:13:05,396 WARN memory.MemoryStore: Not enough space to cache rdd_147_2 in memory! (computed 70.8 MiB so far)\n",
      "2023-10-10 22:13:08,810 WARN memory.MemoryStore: Not enough space to cache rdd_147_1 in memory! (computed 47.1 MiB so far)\n",
      "2023-10-10 22:13:08,823 WARN memory.MemoryStore: Not enough space to cache rdd_147_2 in memory! (computed 70.8 MiB so far)\n",
      "2023-10-10 22:13:08,833 WARN memory.MemoryStore: Not enough space to cache rdd_147_0 in memory! (computed 70.8 MiB so far)\n",
      "2023-10-10 22:13:12,207 WARN memory.MemoryStore: Not enough space to cache rdd_147_2 in memory! (computed 47.1 MiB so far)\n",
      "2023-10-10 22:13:12,223 WARN memory.MemoryStore: Not enough space to cache rdd_147_0 in memory! (computed 70.8 MiB so far)\n",
      "2023-10-10 22:13:12,272 WARN memory.MemoryStore: Not enough space to cache rdd_147_1 in memory! (computed 70.8 MiB so far)\n",
      "2023-10-10 22:13:15,659 WARN memory.MemoryStore: Not enough space to cache rdd_147_2 in memory! (computed 47.1 MiB so far)\n",
      "2023-10-10 22:13:15,683 WARN memory.MemoryStore: Not enough space to cache rdd_147_0 in memory! (computed 70.8 MiB so far)\n",
      "2023-10-10 22:13:15,684 WARN memory.MemoryStore: Not enough space to cache rdd_147_1 in memory! (computed 70.8 MiB so far)\n",
      "2023-10-10 22:13:19,037 WARN memory.MemoryStore: Not enough space to cache rdd_147_2 in memory! (computed 47.1 MiB so far)\n",
      "2023-10-10 22:13:19,043 WARN memory.MemoryStore: Not enough space to cache rdd_147_1 in memory! (computed 70.8 MiB so far)\n",
      "2023-10-10 22:13:19,055 WARN memory.MemoryStore: Not enough space to cache rdd_147_0 in memory! (computed 70.8 MiB so far)\n",
      "2023-10-10 22:13:22,336 WARN memory.MemoryStore: Not enough space to cache rdd_147_0 in memory! (computed 47.1 MiB so far)\n",
      "2023-10-10 22:13:22,359 WARN memory.MemoryStore: Not enough space to cache rdd_147_1 in memory! (computed 70.8 MiB so far)\n",
      "2023-10-10 22:13:22,359 WARN memory.MemoryStore: Not enough space to cache rdd_147_2 in memory! (computed 70.8 MiB so far)\n",
      "2023-10-10 22:13:25,536 WARN memory.MemoryStore: Not enough space to cache rdd_147_2 in memory! (computed 47.1 MiB so far)\n",
      "2023-10-10 22:13:25,550 WARN memory.MemoryStore: Not enough space to cache rdd_147_1 in memory! (computed 70.8 MiB so far)\n",
      "2023-10-10 22:13:25,563 WARN memory.MemoryStore: Not enough space to cache rdd_147_0 in memory! (computed 70.8 MiB so far)\n",
      "2023-10-10 22:13:28,681 WARN memory.MemoryStore: Not enough space to cache rdd_147_2 in memory! (computed 47.1 MiB so far)\n",
      "2023-10-10 22:13:28,703 WARN memory.MemoryStore: Not enough space to cache rdd_147_1 in memory! (computed 70.8 MiB so far)\n",
      "2023-10-10 22:13:28,705 WARN memory.MemoryStore: Not enough space to cache rdd_147_0 in memory! (computed 70.8 MiB so far)\n",
      "2023-10-10 22:13:31,892 WARN memory.MemoryStore: Not enough space to cache rdd_147_1 in memory! (computed 47.1 MiB so far)\n",
      "2023-10-10 22:13:31,920 WARN memory.MemoryStore: Not enough space to cache rdd_147_2 in memory! (computed 70.8 MiB so far)\n",
      "2023-10-10 22:13:31,929 WARN memory.MemoryStore: Not enough space to cache rdd_147_0 in memory! (computed 70.8 MiB so far)\n",
      "2023-10-10 22:13:35,097 WARN memory.MemoryStore: Not enough space to cache rdd_147_2 in memory! (computed 47.1 MiB so far)\n",
      "2023-10-10 22:13:35,279 WARN memory.MemoryStore: Not enough space to cache rdd_147_1 in memory! (computed 70.8 MiB so far)\n",
      "2023-10-10 22:13:35,305 WARN memory.MemoryStore: Not enough space to cache rdd_147_0 in memory! (computed 70.8 MiB so far)\n",
      "2023-10-10 22:13:38,429 WARN memory.MemoryStore: Not enough space to cache rdd_147_2 in memory! (computed 47.1 MiB so far)\n",
      "2023-10-10 22:13:38,499 WARN memory.MemoryStore: Not enough space to cache rdd_147_1 in memory! (computed 70.8 MiB so far)\n",
      "2023-10-10 22:13:38,503 WARN memory.MemoryStore: Not enough space to cache rdd_147_0 in memory! (computed 70.8 MiB so far)\n",
      "2023-10-10 22:13:41,992 WARN memory.MemoryStore: Not enough space to cache rdd_147_1 in memory! (computed 47.1 MiB so far)\n",
      "2023-10-10 22:13:42,016 WARN memory.MemoryStore: Not enough space to cache rdd_147_2 in memory! (computed 70.8 MiB so far)\n",
      "2023-10-10 22:13:42,016 WARN memory.MemoryStore: Not enough space to cache rdd_147_0 in memory! (computed 70.8 MiB so far)\n"
     ]
    },
    {
     "name": "stderr",
     "output_type": "stream",
     "text": [
      "2023-10-10 22:13:45,231 WARN memory.MemoryStore: Not enough space to cache rdd_147_0 in memory! (computed 47.1 MiB so far)\n",
      "2023-10-10 22:13:45,253 WARN memory.MemoryStore: Not enough space to cache rdd_147_1 in memory! (computed 70.8 MiB so far)\n",
      "2023-10-10 22:13:45,258 WARN memory.MemoryStore: Not enough space to cache rdd_147_2 in memory! (computed 70.8 MiB so far)\n",
      "2023-10-10 22:13:48,540 WARN memory.MemoryStore: Not enough space to cache rdd_147_0 in memory! (computed 47.1 MiB so far)\n",
      "2023-10-10 22:13:48,773 WARN memory.MemoryStore: Not enough space to cache rdd_147_2 in memory! (computed 70.8 MiB so far)\n",
      "2023-10-10 22:13:48,774 WARN memory.MemoryStore: Not enough space to cache rdd_147_1 in memory! (computed 70.8 MiB so far)\n",
      "2023-10-10 22:13:52,386 WARN memory.MemoryStore: Not enough space to cache rdd_147_2 in memory! (computed 47.1 MiB so far)\n",
      "2023-10-10 22:13:52,406 WARN memory.MemoryStore: Not enough space to cache rdd_147_0 in memory! (computed 70.8 MiB so far)\n",
      "2023-10-10 22:13:52,423 WARN memory.MemoryStore: Not enough space to cache rdd_147_1 in memory! (computed 70.8 MiB so far)\n",
      "2023-10-10 22:13:57,541 WARN memory.MemoryStore: Not enough space to cache rdd_147_0 in memory! (computed 47.1 MiB so far)\n",
      "2023-10-10 22:13:57,602 WARN memory.MemoryStore: Not enough space to cache rdd_147_2 in memory! (computed 70.8 MiB so far)\n",
      "2023-10-10 22:13:57,605 WARN memory.MemoryStore: Not enough space to cache rdd_147_1 in memory! (computed 70.8 MiB so far)\n",
      "2023-10-10 22:14:00,805 WARN memory.MemoryStore: Not enough space to cache rdd_147_0 in memory! (computed 47.1 MiB so far)\n",
      "2023-10-10 22:14:00,817 WARN memory.MemoryStore: Not enough space to cache rdd_147_1 in memory! (computed 70.8 MiB so far)\n",
      "2023-10-10 22:14:00,819 WARN memory.MemoryStore: Not enough space to cache rdd_147_2 in memory! (computed 70.8 MiB so far)\n",
      "2023-10-10 22:14:04,598 WARN memory.MemoryStore: Not enough space to cache rdd_147_2 in memory! (computed 47.1 MiB so far)\n",
      "2023-10-10 22:14:04,615 WARN memory.MemoryStore: Not enough space to cache rdd_147_0 in memory! (computed 70.8 MiB so far)\n",
      "2023-10-10 22:14:04,615 WARN memory.MemoryStore: Not enough space to cache rdd_147_1 in memory! (computed 70.8 MiB so far)\n",
      "2023-10-10 22:14:07,821 WARN memory.MemoryStore: Not enough space to cache rdd_147_2 in memory! (computed 47.1 MiB so far)\n",
      "2023-10-10 22:14:07,881 WARN memory.MemoryStore: Not enough space to cache rdd_147_1 in memory! (computed 70.8 MiB so far)\n",
      "2023-10-10 22:14:07,882 WARN memory.MemoryStore: Not enough space to cache rdd_147_0 in memory! (computed 70.8 MiB so far)\n",
      "2023-10-10 22:14:11,014 WARN memory.MemoryStore: Not enough space to cache rdd_147_0 in memory! (computed 47.1 MiB so far)\n",
      "2023-10-10 22:14:11,037 WARN memory.MemoryStore: Not enough space to cache rdd_147_2 in memory! (computed 70.8 MiB so far)\n",
      "2023-10-10 22:14:11,037 WARN memory.MemoryStore: Not enough space to cache rdd_147_1 in memory! (computed 70.8 MiB so far)\n",
      "2023-10-10 22:14:14,914 WARN memory.MemoryStore: Not enough space to cache rdd_147_0 in memory! (computed 47.1 MiB so far)\n",
      "2023-10-10 22:14:14,931 WARN memory.MemoryStore: Not enough space to cache rdd_147_2 in memory! (computed 70.8 MiB so far)\n",
      "2023-10-10 22:14:14,972 WARN memory.MemoryStore: Not enough space to cache rdd_147_1 in memory! (computed 70.8 MiB so far)\n",
      "2023-10-10 22:14:18,200 WARN memory.MemoryStore: Not enough space to cache rdd_147_2 in memory! (computed 47.1 MiB so far)\n",
      "2023-10-10 22:14:18,223 WARN memory.MemoryStore: Not enough space to cache rdd_147_0 in memory! (computed 70.8 MiB so far)\n",
      "2023-10-10 22:14:18,226 WARN memory.MemoryStore: Not enough space to cache rdd_147_1 in memory! (computed 70.8 MiB so far)\n",
      "2023-10-10 22:14:22,675 WARN memory.MemoryStore: Not enough space to cache rdd_147_2 in memory! (computed 47.1 MiB so far)\n",
      "2023-10-10 22:14:22,696 WARN memory.MemoryStore: Not enough space to cache rdd_147_0 in memory! (computed 70.8 MiB so far)\n",
      "2023-10-10 22:14:22,698 WARN memory.MemoryStore: Not enough space to cache rdd_147_1 in memory! (computed 70.8 MiB so far)\n",
      "2023-10-10 22:14:35,217 WARN memory.MemoryStore: Not enough space to cache rdd_147_0 in memory! (computed 70.8 MiB so far)\n",
      "2023-10-10 22:14:35,220 WARN memory.MemoryStore: Not enough space to cache rdd_147_2 in memory! (computed 47.1 MiB so far)\n",
      "2023-10-10 22:14:35,922 WARN memory.MemoryStore: Not enough space to cache rdd_147_1 in memory! (computed 70.8 MiB so far)\n",
      "2023-10-10 22:14:48,038 WARN memory.MemoryStore: Not enough space to cache rdd_147_1 in memory! (computed 30.8 MiB so far)\n",
      "2023-10-10 22:14:48,049 WARN memory.MemoryStore: Not enough space to cache rdd_147_0 in memory! (computed 106.2 MiB so far)\n",
      "2023-10-10 22:14:48,052 WARN memory.MemoryStore: Not enough space to cache rdd_147_2 in memory! (computed 47.1 MiB so far)\n",
      "2023-10-10 22:14:56,867 WARN memory.MemoryStore: Not enough space to cache rdd_147_1 in memory! (computed 47.1 MiB so far)\n",
      "2023-10-10 22:14:57,315 WARN memory.MemoryStore: Not enough space to cache rdd_147_2 in memory! (computed 70.8 MiB so far)\n",
      "2023-10-10 22:14:57,350 WARN memory.MemoryStore: Not enough space to cache rdd_147_0 in memory! (computed 70.8 MiB so far)\n",
      "2023-10-10 22:15:00,976 WARN memory.MemoryStore: Not enough space to cache rdd_147_0 in memory! (computed 47.1 MiB so far)\n",
      "2023-10-10 22:15:01,007 WARN memory.MemoryStore: Not enough space to cache rdd_147_2 in memory! (computed 70.8 MiB so far)\n",
      "2023-10-10 22:15:01,018 WARN memory.MemoryStore: Not enough space to cache rdd_147_1 in memory! (computed 70.8 MiB so far)\n",
      "2023-10-10 22:15:04,533 WARN memory.MemoryStore: Not enough space to cache rdd_147_2 in memory! (computed 47.1 MiB so far)\n",
      "2023-10-10 22:15:04,550 WARN memory.MemoryStore: Not enough space to cache rdd_147_1 in memory! (computed 70.8 MiB so far)\n",
      "2023-10-10 22:15:04,554 WARN memory.MemoryStore: Not enough space to cache rdd_147_0 in memory! (computed 70.8 MiB so far)\n",
      "2023-10-10 22:15:08,804 WARN memory.MemoryStore: Not enough space to cache rdd_147_1 in memory! (computed 47.1 MiB so far)\n",
      "2023-10-10 22:15:08,820 WARN memory.MemoryStore: Not enough space to cache rdd_147_0 in memory! (computed 70.8 MiB so far)\n",
      "2023-10-10 22:15:09,100 WARN memory.MemoryStore: Not enough space to cache rdd_147_2 in memory! (computed 70.8 MiB so far)\n",
      "2023-10-10 22:15:23,344 WARN memory.MemoryStore: Not enough space to cache rdd_147_2 in memory! (computed 70.8 MiB so far)\n",
      "2023-10-10 22:15:23,370 WARN memory.MemoryStore: Not enough space to cache rdd_147_0 in memory! (computed 70.8 MiB so far)\n",
      "2023-10-10 22:15:23,377 WARN memory.MemoryStore: Not enough space to cache rdd_147_1 in memory! (computed 47.1 MiB so far)\n",
      "2023-10-10 22:15:37,726 WARN memory.MemoryStore: Not enough space to cache rdd_147_2 in memory! (computed 13.3 MiB so far)\n",
      "2023-10-10 22:15:37,736 WARN memory.MemoryStore: Not enough space to cache rdd_147_0 in memory! (computed 70.8 MiB so far)\n",
      "2023-10-10 22:15:37,743 WARN memory.MemoryStore: Not enough space to cache rdd_147_1 in memory! (computed 106.2 MiB so far)\n",
      "2023-10-10 22:15:52,749 WARN memory.MemoryStore: Not enough space to cache rdd_147_0 in memory! (computed 47.1 MiB so far)\n",
      "2023-10-10 22:15:52,787 WARN memory.MemoryStore: Not enough space to cache rdd_147_2 in memory! (computed 70.8 MiB so far)\n",
      "2023-10-10 22:15:52,794 WARN memory.MemoryStore: Not enough space to cache rdd_147_1 in memory! (computed 70.8 MiB so far)\n",
      "2023-10-10 22:16:02,484 WARN memory.MemoryStore: Not enough space to cache rdd_147_0 in memory! (computed 47.1 MiB so far)\n",
      "2023-10-10 22:16:02,506 WARN memory.MemoryStore: Not enough space to cache rdd_147_2 in memory! (computed 70.8 MiB so far)\n",
      "2023-10-10 22:16:02,508 WARN memory.MemoryStore: Not enough space to cache rdd_147_1 in memory! (computed 70.8 MiB so far)\n",
      "2023-10-10 22:16:05,715 WARN memory.MemoryStore: Not enough space to cache rdd_147_2 in memory! (computed 47.1 MiB so far)\n",
      "2023-10-10 22:16:05,906 WARN memory.MemoryStore: Not enough space to cache rdd_147_1 in memory! (computed 70.8 MiB so far)\n",
      "2023-10-10 22:16:05,909 WARN memory.MemoryStore: Not enough space to cache rdd_147_0 in memory! (computed 70.8 MiB so far)\n"
     ]
    },
    {
     "name": "stderr",
     "output_type": "stream",
     "text": [
      "2023-10-10 22:16:09,003 WARN memory.MemoryStore: Not enough space to cache rdd_147_2 in memory! (computed 47.1 MiB so far)\n",
      "2023-10-10 22:16:09,024 WARN memory.MemoryStore: Not enough space to cache rdd_147_0 in memory! (computed 70.8 MiB so far)\n",
      "2023-10-10 22:16:09,027 WARN memory.MemoryStore: Not enough space to cache rdd_147_1 in memory! (computed 70.8 MiB so far)\n",
      "2023-10-10 22:16:13,913 WARN memory.MemoryStore: Not enough space to cache rdd_147_1 in memory! (computed 47.1 MiB so far)\n",
      "2023-10-10 22:16:13,956 WARN memory.MemoryStore: Not enough space to cache rdd_147_0 in memory! (computed 70.8 MiB so far)\n",
      "2023-10-10 22:16:14,075 WARN memory.MemoryStore: Not enough space to cache rdd_147_2 in memory! (computed 70.8 MiB so far)\n",
      "2023-10-10 22:16:19,846 WARN memory.MemoryStore: Not enough space to cache rdd_147_0 in memory! (computed 47.1 MiB so far)\n",
      "2023-10-10 22:16:19,862 WARN memory.MemoryStore: Not enough space to cache rdd_147_2 in memory! (computed 70.8 MiB so far)\n",
      "2023-10-10 22:16:19,869 WARN memory.MemoryStore: Not enough space to cache rdd_147_1 in memory! (computed 70.8 MiB so far)\n",
      "2023-10-10 22:16:23,547 WARN memory.MemoryStore: Not enough space to cache rdd_147_0 in memory! (computed 47.1 MiB so far)\n",
      "2023-10-10 22:16:23,744 WARN memory.MemoryStore: Not enough space to cache rdd_147_1 in memory! (computed 70.8 MiB so far)\n",
      "2023-10-10 22:16:23,746 WARN memory.MemoryStore: Not enough space to cache rdd_147_2 in memory! (computed 70.8 MiB so far)\n",
      "2023-10-10 22:16:27,904 WARN memory.MemoryStore: Not enough space to cache rdd_147_1 in memory! (computed 47.1 MiB so far)\n",
      "2023-10-10 22:16:28,136 WARN memory.MemoryStore: Not enough space to cache rdd_147_0 in memory! (computed 70.8 MiB so far)\n",
      "2023-10-10 22:16:28,160 WARN memory.MemoryStore: Not enough space to cache rdd_147_2 in memory! (computed 70.8 MiB so far)\n",
      "2023-10-10 22:16:32,811 WARN memory.MemoryStore: Not enough space to cache rdd_147_0 in memory! (computed 47.1 MiB so far)\n",
      "2023-10-10 22:16:32,816 WARN memory.MemoryStore: Not enough space to cache rdd_147_1 in memory! (computed 70.8 MiB so far)\n",
      "2023-10-10 22:16:33,037 WARN memory.MemoryStore: Not enough space to cache rdd_147_2 in memory! (computed 70.8 MiB so far)\n",
      "2023-10-10 22:16:36,344 WARN memory.MemoryStore: Not enough space to cache rdd_147_2 in memory! (computed 47.1 MiB so far)\n",
      "2023-10-10 22:16:36,438 WARN memory.MemoryStore: Not enough space to cache rdd_147_1 in memory! (computed 70.8 MiB so far)\n",
      "2023-10-10 22:16:36,440 WARN memory.MemoryStore: Not enough space to cache rdd_147_0 in memory! (computed 70.8 MiB so far)\n",
      "2023-10-10 22:16:39,810 WARN memory.MemoryStore: Not enough space to cache rdd_147_2 in memory! (computed 47.1 MiB so far)\n",
      "2023-10-10 22:16:40,148 WARN memory.MemoryStore: Not enough space to cache rdd_147_0 in memory! (computed 70.8 MiB so far)\n",
      "2023-10-10 22:16:40,149 WARN memory.MemoryStore: Not enough space to cache rdd_147_1 in memory! (computed 70.8 MiB so far)\n",
      "2023-10-10 22:16:43,268 WARN memory.MemoryStore: Not enough space to cache rdd_147_2 in memory! (computed 47.1 MiB so far)\n",
      "2023-10-10 22:16:43,352 WARN memory.MemoryStore: Not enough space to cache rdd_147_1 in memory! (computed 70.8 MiB so far)\n",
      "2023-10-10 22:16:43,360 WARN memory.MemoryStore: Not enough space to cache rdd_147_0 in memory! (computed 70.8 MiB so far)\n",
      "2023-10-10 22:16:47,104 WARN memory.MemoryStore: Not enough space to cache rdd_147_2 in memory! (computed 47.1 MiB so far)\n",
      "2023-10-10 22:16:47,113 WARN memory.MemoryStore: Not enough space to cache rdd_147_0 in memory! (computed 70.8 MiB so far)\n",
      "2023-10-10 22:16:47,124 WARN memory.MemoryStore: Not enough space to cache rdd_147_1 in memory! (computed 70.8 MiB so far)\n",
      "2023-10-10 22:16:50,317 WARN memory.MemoryStore: Not enough space to cache rdd_147_1 in memory! (computed 47.1 MiB so far)\n",
      "2023-10-10 22:16:50,332 WARN memory.MemoryStore: Not enough space to cache rdd_147_0 in memory! (computed 70.8 MiB so far)\n",
      "2023-10-10 22:16:50,336 WARN memory.MemoryStore: Not enough space to cache rdd_147_2 in memory! (computed 70.8 MiB so far)\n",
      "2023-10-10 22:16:53,682 WARN memory.MemoryStore: Not enough space to cache rdd_147_2 in memory! (computed 47.1 MiB so far)\n",
      "2023-10-10 22:16:53,707 WARN memory.MemoryStore: Not enough space to cache rdd_147_0 in memory! (computed 70.8 MiB so far)\n",
      "2023-10-10 22:16:53,714 WARN memory.MemoryStore: Not enough space to cache rdd_147_1 in memory! (computed 70.8 MiB so far)\n",
      "2023-10-10 22:16:56,763 WARN memory.MemoryStore: Not enough space to cache rdd_147_0 in memory! (computed 47.1 MiB so far)\n",
      "2023-10-10 22:16:56,825 WARN memory.MemoryStore: Not enough space to cache rdd_147_2 in memory! (computed 70.8 MiB so far)\n",
      "2023-10-10 22:16:56,830 WARN memory.MemoryStore: Not enough space to cache rdd_147_1 in memory! (computed 70.8 MiB so far)\n",
      "2023-10-10 22:17:00,309 WARN memory.MemoryStore: Not enough space to cache rdd_147_0 in memory! (computed 47.1 MiB so far)\n",
      "2023-10-10 22:17:00,324 WARN memory.MemoryStore: Not enough space to cache rdd_147_1 in memory! (computed 70.8 MiB so far)\n",
      "2023-10-10 22:17:00,328 WARN memory.MemoryStore: Not enough space to cache rdd_147_2 in memory! (computed 70.8 MiB so far)\n",
      "2023-10-10 22:17:03,581 WARN memory.MemoryStore: Not enough space to cache rdd_147_2 in memory! (computed 47.1 MiB so far)\n",
      "2023-10-10 22:17:03,641 WARN memory.MemoryStore: Not enough space to cache rdd_147_1 in memory! (computed 70.8 MiB so far)\n",
      "2023-10-10 22:17:03,642 WARN memory.MemoryStore: Not enough space to cache rdd_147_0 in memory! (computed 70.8 MiB so far)\n",
      "2023-10-10 22:17:07,872 WARN memory.MemoryStore: Not enough space to cache rdd_147_2 in memory! (computed 47.1 MiB so far)\n",
      "2023-10-10 22:17:07,884 WARN memory.MemoryStore: Not enough space to cache rdd_147_1 in memory! (computed 70.8 MiB so far)\n",
      "2023-10-10 22:17:07,915 WARN memory.MemoryStore: Not enough space to cache rdd_147_0 in memory! (computed 70.8 MiB so far)\n",
      "2023-10-10 22:17:11,007 WARN memory.MemoryStore: Not enough space to cache rdd_147_2 in memory! (computed 47.1 MiB so far)\n",
      "2023-10-10 22:17:11,018 WARN memory.MemoryStore: Not enough space to cache rdd_147_1 in memory! (computed 70.8 MiB so far)\n",
      "2023-10-10 22:17:11,025 WARN memory.MemoryStore: Not enough space to cache rdd_147_0 in memory! (computed 70.8 MiB so far)\n",
      "2023-10-10 22:17:14,490 WARN memory.MemoryStore: Not enough space to cache rdd_147_2 in memory! (computed 47.1 MiB so far)\n",
      "2023-10-10 22:17:14,515 WARN memory.MemoryStore: Not enough space to cache rdd_147_1 in memory! (computed 70.8 MiB so far)\n",
      "2023-10-10 22:17:14,518 WARN memory.MemoryStore: Not enough space to cache rdd_147_0 in memory! (computed 70.8 MiB so far)\n",
      "2023-10-10 22:17:17,772 WARN memory.MemoryStore: Not enough space to cache rdd_147_2 in memory! (computed 47.1 MiB so far)\n",
      "2023-10-10 22:17:17,791 WARN memory.MemoryStore: Not enough space to cache rdd_147_1 in memory! (computed 70.8 MiB so far)\n",
      "2023-10-10 22:17:17,794 WARN memory.MemoryStore: Not enough space to cache rdd_147_0 in memory! (computed 70.8 MiB so far)\n",
      "2023-10-10 22:17:20,952 WARN memory.MemoryStore: Not enough space to cache rdd_147_0 in memory! (computed 47.1 MiB so far)\n",
      "2023-10-10 22:17:20,973 WARN memory.MemoryStore: Not enough space to cache rdd_147_1 in memory! (computed 70.8 MiB so far)\n",
      "2023-10-10 22:17:20,977 WARN memory.MemoryStore: Not enough space to cache rdd_147_2 in memory! (computed 70.8 MiB so far)\n",
      "2023-10-10 22:17:24,167 WARN memory.MemoryStore: Not enough space to cache rdd_147_2 in memory! (computed 47.1 MiB so far)\n",
      "2023-10-10 22:17:24,223 WARN memory.MemoryStore: Not enough space to cache rdd_147_0 in memory! (computed 70.8 MiB so far)\n",
      "2023-10-10 22:17:24,225 WARN memory.MemoryStore: Not enough space to cache rdd_147_1 in memory! (computed 70.8 MiB so far)\n",
      "2023-10-10 22:17:27,606 WARN memory.MemoryStore: Not enough space to cache rdd_147_0 in memory! (computed 47.1 MiB so far)\n",
      "2023-10-10 22:17:27,620 WARN memory.MemoryStore: Not enough space to cache rdd_147_2 in memory! (computed 70.8 MiB so far)\n",
      "2023-10-10 22:17:27,631 WARN memory.MemoryStore: Not enough space to cache rdd_147_1 in memory! (computed 70.8 MiB so far)\n"
     ]
    },
    {
     "name": "stderr",
     "output_type": "stream",
     "text": [
      "2023-10-10 22:17:30,640 WARN memory.MemoryStore: Not enough space to cache rdd_147_2 in memory! (computed 47.1 MiB so far)\n",
      "2023-10-10 22:17:30,693 WARN memory.MemoryStore: Not enough space to cache rdd_147_1 in memory! (computed 70.8 MiB so far)\n",
      "2023-10-10 22:17:30,701 WARN memory.MemoryStore: Not enough space to cache rdd_147_0 in memory! (computed 70.8 MiB so far)\n",
      "2023-10-10 22:17:34,157 WARN memory.MemoryStore: Not enough space to cache rdd_147_2 in memory! (computed 47.1 MiB so far)\n",
      "2023-10-10 22:17:34,190 WARN memory.MemoryStore: Not enough space to cache rdd_147_1 in memory! (computed 70.8 MiB so far)\n",
      "2023-10-10 22:17:34,192 WARN memory.MemoryStore: Not enough space to cache rdd_147_0 in memory! (computed 70.8 MiB so far)\n",
      "2023-10-10 22:17:38,003 WARN memory.MemoryStore: Not enough space to cache rdd_147_0 in memory! (computed 47.1 MiB so far)\n",
      "2023-10-10 22:17:38,024 WARN memory.MemoryStore: Not enough space to cache rdd_147_2 in memory! (computed 70.8 MiB so far)\n",
      "2023-10-10 22:17:38,029 WARN memory.MemoryStore: Not enough space to cache rdd_147_1 in memory! (computed 70.8 MiB so far)\n",
      "2023-10-10 22:17:41,481 WARN memory.MemoryStore: Not enough space to cache rdd_147_2 in memory! (computed 47.1 MiB so far)\n",
      "2023-10-10 22:17:41,494 WARN memory.MemoryStore: Not enough space to cache rdd_147_1 in memory! (computed 70.8 MiB so far)\n",
      "2023-10-10 22:17:41,650 WARN memory.MemoryStore: Not enough space to cache rdd_147_0 in memory! (computed 70.8 MiB so far)\n",
      "2023-10-10 22:17:44,779 WARN memory.MemoryStore: Not enough space to cache rdd_147_2 in memory! (computed 47.1 MiB so far)\n",
      "2023-10-10 22:17:44,800 WARN memory.MemoryStore: Not enough space to cache rdd_147_1 in memory! (computed 70.8 MiB so far)\n",
      "2023-10-10 22:17:44,800 WARN memory.MemoryStore: Not enough space to cache rdd_147_0 in memory! (computed 70.8 MiB so far)\n",
      "2023-10-10 22:17:48,135 WARN memory.MemoryStore: Not enough space to cache rdd_147_2 in memory! (computed 47.1 MiB so far)\n",
      "2023-10-10 22:17:48,383 WARN memory.MemoryStore: Not enough space to cache rdd_147_0 in memory! (computed 70.8 MiB so far)\n",
      "2023-10-10 22:17:48,393 WARN memory.MemoryStore: Not enough space to cache rdd_147_1 in memory! (computed 70.8 MiB so far)\n",
      "2023-10-10 22:17:51,421 WARN memory.MemoryStore: Not enough space to cache rdd_147_2 in memory! (computed 47.1 MiB so far)\n",
      "2023-10-10 22:17:51,445 WARN memory.MemoryStore: Not enough space to cache rdd_147_1 in memory! (computed 70.8 MiB so far)\n",
      "2023-10-10 22:17:51,453 WARN memory.MemoryStore: Not enough space to cache rdd_147_0 in memory! (computed 70.8 MiB so far)\n",
      "2023-10-10 22:17:54,953 WARN memory.MemoryStore: Not enough space to cache rdd_147_1 in memory! (computed 47.1 MiB so far)\n",
      "2023-10-10 22:17:54,975 WARN memory.MemoryStore: Not enough space to cache rdd_147_2 in memory! (computed 70.8 MiB so far)\n",
      "2023-10-10 22:17:54,985 WARN memory.MemoryStore: Not enough space to cache rdd_147_0 in memory! (computed 70.8 MiB so far)\n",
      "2023-10-10 22:17:58,153 WARN memory.MemoryStore: Not enough space to cache rdd_147_1 in memory! (computed 47.1 MiB so far)\n",
      "2023-10-10 22:17:58,174 WARN memory.MemoryStore: Not enough space to cache rdd_147_2 in memory! (computed 70.8 MiB so far)\n",
      "2023-10-10 22:17:58,181 WARN memory.MemoryStore: Not enough space to cache rdd_147_0 in memory! (computed 70.8 MiB so far)\n",
      "2023-10-10 22:18:01,549 WARN memory.MemoryStore: Not enough space to cache rdd_147_1 in memory! (computed 47.1 MiB so far)\n",
      "2023-10-10 22:18:01,751 WARN memory.MemoryStore: Not enough space to cache rdd_147_2 in memory! (computed 70.8 MiB so far)\n",
      "2023-10-10 22:18:01,752 WARN memory.MemoryStore: Not enough space to cache rdd_147_0 in memory! (computed 70.8 MiB so far)\n",
      "2023-10-10 22:18:04,884 WARN memory.MemoryStore: Not enough space to cache rdd_147_0 in memory! (computed 47.1 MiB so far)\n",
      "2023-10-10 22:18:04,930 WARN memory.MemoryStore: Not enough space to cache rdd_147_1 in memory! (computed 70.8 MiB so far)\n",
      "2023-10-10 22:18:04,932 WARN memory.MemoryStore: Not enough space to cache rdd_147_2 in memory! (computed 70.8 MiB so far)\n",
      "2023-10-10 22:18:08,295 WARN memory.MemoryStore: Not enough space to cache rdd_147_1 in memory! (computed 47.1 MiB so far)\n",
      "2023-10-10 22:18:08,317 WARN memory.MemoryStore: Not enough space to cache rdd_147_2 in memory! (computed 70.8 MiB so far)\n",
      "2023-10-10 22:18:08,324 WARN memory.MemoryStore: Not enough space to cache rdd_147_0 in memory! (computed 70.8 MiB so far)\n",
      "2023-10-10 22:18:11,566 WARN memory.MemoryStore: Not enough space to cache rdd_147_0 in memory! (computed 47.1 MiB so far)\n",
      "2023-10-10 22:18:11,616 WARN memory.MemoryStore: Not enough space to cache rdd_147_1 in memory! (computed 70.8 MiB so far)\n",
      "2023-10-10 22:18:11,621 WARN memory.MemoryStore: Not enough space to cache rdd_147_2 in memory! (computed 70.8 MiB so far)\n",
      "2023-10-10 22:18:14,796 WARN memory.MemoryStore: Not enough space to cache rdd_147_0 in memory! (computed 47.1 MiB so far)\n",
      "2023-10-10 22:18:15,071 WARN memory.MemoryStore: Not enough space to cache rdd_147_1 in memory! (computed 70.8 MiB so far)\n",
      "2023-10-10 22:18:15,076 WARN memory.MemoryStore: Not enough space to cache rdd_147_2 in memory! (computed 70.8 MiB so far)\n",
      "2023-10-10 22:18:18,204 WARN memory.MemoryStore: Not enough space to cache rdd_147_1 in memory! (computed 47.1 MiB so far)\n",
      "2023-10-10 22:18:18,220 WARN memory.MemoryStore: Not enough space to cache rdd_147_0 in memory! (computed 70.8 MiB so far)\n",
      "2023-10-10 22:18:18,227 WARN memory.MemoryStore: Not enough space to cache rdd_147_2 in memory! (computed 70.8 MiB so far)\n",
      "2023-10-10 22:18:21,606 WARN memory.MemoryStore: Not enough space to cache rdd_147_0 in memory! (computed 47.1 MiB so far)\n",
      "2023-10-10 22:18:21,621 WARN memory.MemoryStore: Not enough space to cache rdd_147_2 in memory! (computed 70.8 MiB so far)\n",
      "2023-10-10 22:18:21,628 WARN memory.MemoryStore: Not enough space to cache rdd_147_1 in memory! (computed 70.8 MiB so far)\n",
      "2023-10-10 22:18:25,141 WARN memory.MemoryStore: Not enough space to cache rdd_147_1 in memory! (computed 47.1 MiB so far)\n",
      "2023-10-10 22:18:25,156 WARN memory.MemoryStore: Not enough space to cache rdd_147_0 in memory! (computed 70.8 MiB so far)\n",
      "2023-10-10 22:18:25,162 WARN memory.MemoryStore: Not enough space to cache rdd_147_2 in memory! (computed 70.8 MiB so far)\n",
      "2023-10-10 22:18:28,367 WARN memory.MemoryStore: Not enough space to cache rdd_147_1 in memory! (computed 47.1 MiB so far)\n",
      "2023-10-10 22:18:28,545 WARN memory.MemoryStore: Not enough space to cache rdd_147_0 in memory! (computed 70.8 MiB so far)\n",
      "2023-10-10 22:18:28,552 WARN memory.MemoryStore: Not enough space to cache rdd_147_2 in memory! (computed 70.8 MiB so far)\n",
      "2023-10-10 22:18:31,984 WARN memory.MemoryStore: Not enough space to cache rdd_147_0 in memory! (computed 47.1 MiB so far)\n",
      "2023-10-10 22:18:32,004 WARN memory.MemoryStore: Not enough space to cache rdd_147_1 in memory! (computed 70.8 MiB so far)\n",
      "2023-10-10 22:18:32,017 WARN memory.MemoryStore: Not enough space to cache rdd_147_2 in memory! (computed 70.8 MiB so far)\n",
      "2023-10-10 22:18:35,705 WARN memory.MemoryStore: Not enough space to cache rdd_147_2 in memory! (computed 47.1 MiB so far)\n",
      "2023-10-10 22:18:35,985 WARN memory.MemoryStore: Not enough space to cache rdd_147_1 in memory! (computed 70.8 MiB so far)\n",
      "2023-10-10 22:18:35,987 WARN memory.MemoryStore: Not enough space to cache rdd_147_0 in memory! (computed 70.8 MiB so far)\n",
      "2023-10-10 22:18:39,412 WARN memory.MemoryStore: Not enough space to cache rdd_147_0 in memory! (computed 47.1 MiB so far)\n",
      "2023-10-10 22:18:39,432 WARN memory.MemoryStore: Not enough space to cache rdd_147_1 in memory! (computed 70.8 MiB so far)\n",
      "2023-10-10 22:18:39,433 WARN memory.MemoryStore: Not enough space to cache rdd_147_2 in memory! (computed 70.8 MiB so far)\n",
      "2023-10-10 22:18:42,793 WARN memory.MemoryStore: Not enough space to cache rdd_147_0 in memory! (computed 47.1 MiB so far)\n",
      "2023-10-10 22:18:43,003 WARN memory.MemoryStore: Not enough space to cache rdd_147_1 in memory! (computed 70.8 MiB so far)\n",
      "2023-10-10 22:18:43,005 WARN memory.MemoryStore: Not enough space to cache rdd_147_2 in memory! (computed 70.8 MiB so far)\n"
     ]
    },
    {
     "name": "stderr",
     "output_type": "stream",
     "text": [
      "2023-10-10 22:18:45,991 WARN memory.MemoryStore: Not enough space to cache rdd_147_2 in memory! (computed 47.1 MiB so far)\n",
      "2023-10-10 22:18:46,013 WARN memory.MemoryStore: Not enough space to cache rdd_147_1 in memory! (computed 70.8 MiB so far)\n",
      "2023-10-10 22:18:46,052 WARN memory.MemoryStore: Not enough space to cache rdd_147_0 in memory! (computed 70.8 MiB so far)\n",
      "2023-10-10 22:18:49,370 WARN memory.MemoryStore: Not enough space to cache rdd_147_1 in memory! (computed 47.1 MiB so far)\n",
      "2023-10-10 22:18:49,391 WARN memory.MemoryStore: Not enough space to cache rdd_147_2 in memory! (computed 70.8 MiB so far)\n",
      "2023-10-10 22:18:49,392 WARN memory.MemoryStore: Not enough space to cache rdd_147_0 in memory! (computed 70.8 MiB so far)\n",
      "2023-10-10 22:18:52,648 WARN memory.MemoryStore: Not enough space to cache rdd_147_2 in memory! (computed 47.1 MiB so far)\n",
      "2023-10-10 22:18:52,716 WARN memory.MemoryStore: Not enough space to cache rdd_147_1 in memory! (computed 70.8 MiB so far)\n",
      "2023-10-10 22:18:52,719 WARN memory.MemoryStore: Not enough space to cache rdd_147_0 in memory! (computed 70.8 MiB so far)\n",
      "2023-10-10 22:18:55,943 WARN memory.MemoryStore: Not enough space to cache rdd_147_1 in memory! (computed 47.1 MiB so far)\n",
      "2023-10-10 22:18:55,964 WARN memory.MemoryStore: Not enough space to cache rdd_147_2 in memory! (computed 70.8 MiB so far)\n",
      "2023-10-10 22:18:55,965 WARN memory.MemoryStore: Not enough space to cache rdd_147_0 in memory! (computed 70.8 MiB so far)\n",
      "2023-10-10 22:18:59,584 WARN memory.MemoryStore: Not enough space to cache rdd_147_2 in memory! (computed 47.1 MiB so far)\n",
      "2023-10-10 22:18:59,606 WARN memory.MemoryStore: Not enough space to cache rdd_147_1 in memory! (computed 70.8 MiB so far)\n",
      "2023-10-10 22:18:59,610 WARN memory.MemoryStore: Not enough space to cache rdd_147_0 in memory! (computed 70.8 MiB so far)\n",
      "2023-10-10 22:19:02,913 WARN memory.MemoryStore: Not enough space to cache rdd_147_2 in memory! (computed 47.1 MiB so far)\n",
      "2023-10-10 22:19:03,266 WARN memory.MemoryStore: Not enough space to cache rdd_147_1 in memory! (computed 70.8 MiB so far)\n",
      "2023-10-10 22:19:03,267 WARN memory.MemoryStore: Not enough space to cache rdd_147_0 in memory! (computed 70.8 MiB so far)\n",
      "2023-10-10 22:19:06,300 WARN memory.MemoryStore: Not enough space to cache rdd_147_0 in memory! (computed 47.1 MiB so far)\n",
      "2023-10-10 22:19:06,321 WARN memory.MemoryStore: Not enough space to cache rdd_147_1 in memory! (computed 70.8 MiB so far)\n",
      "2023-10-10 22:19:06,327 WARN memory.MemoryStore: Not enough space to cache rdd_147_2 in memory! (computed 70.8 MiB so far)\n",
      "2023-10-10 22:19:09,611 WARN memory.MemoryStore: Not enough space to cache rdd_147_2 in memory! (computed 47.1 MiB so far)\n",
      "2023-10-10 22:19:09,633 WARN memory.MemoryStore: Not enough space to cache rdd_147_1 in memory! (computed 70.8 MiB so far)\n",
      "2023-10-10 22:19:09,634 WARN memory.MemoryStore: Not enough space to cache rdd_147_0 in memory! (computed 70.8 MiB so far)\n",
      "2023-10-10 22:19:12,987 WARN memory.MemoryStore: Not enough space to cache rdd_147_1 in memory! (computed 47.1 MiB so far)\n",
      "2023-10-10 22:19:13,003 WARN memory.MemoryStore: Not enough space to cache rdd_147_2 in memory! (computed 70.8 MiB so far)\n",
      "2023-10-10 22:19:13,006 WARN memory.MemoryStore: Not enough space to cache rdd_147_0 in memory! (computed 70.8 MiB so far)\n",
      "2023-10-10 22:19:16,336 WARN memory.MemoryStore: Not enough space to cache rdd_147_1 in memory! (computed 47.1 MiB so far)\n",
      "2023-10-10 22:19:16,351 WARN memory.MemoryStore: Not enough space to cache rdd_147_0 in memory! (computed 70.8 MiB so far)\n",
      "2023-10-10 22:19:16,360 WARN memory.MemoryStore: Not enough space to cache rdd_147_2 in memory! (computed 70.8 MiB so far)\n",
      "2023-10-10 22:19:19,597 WARN memory.MemoryStore: Not enough space to cache rdd_147_1 in memory! (computed 47.1 MiB so far)\n",
      "2023-10-10 22:19:19,641 WARN memory.MemoryStore: Not enough space to cache rdd_147_2 in memory! (computed 70.8 MiB so far)\n",
      "2023-10-10 22:19:19,642 WARN memory.MemoryStore: Not enough space to cache rdd_147_0 in memory! (computed 70.8 MiB so far)\n",
      "2023-10-10 22:19:22,869 WARN memory.MemoryStore: Not enough space to cache rdd_147_2 in memory! (computed 47.1 MiB so far)\n",
      "2023-10-10 22:19:22,896 WARN memory.MemoryStore: Not enough space to cache rdd_147_0 in memory! (computed 70.8 MiB so far)\n",
      "2023-10-10 22:19:22,900 WARN memory.MemoryStore: Not enough space to cache rdd_147_1 in memory! (computed 70.8 MiB so far)\n",
      "2023-10-10 22:19:25,872 WARN memory.MemoryStore: Not enough space to cache rdd_147_0 in memory! (computed 47.1 MiB so far)\n",
      "2023-10-10 22:19:25,890 WARN memory.MemoryStore: Not enough space to cache rdd_147_1 in memory! (computed 70.8 MiB so far)\n",
      "2023-10-10 22:19:25,894 WARN memory.MemoryStore: Not enough space to cache rdd_147_2 in memory! (computed 70.8 MiB so far)\n",
      "2023-10-10 22:19:29,325 WARN memory.MemoryStore: Not enough space to cache rdd_147_0 in memory! (computed 47.1 MiB so far)\n",
      "2023-10-10 22:19:29,544 WARN memory.MemoryStore: Not enough space to cache rdd_147_1 in memory! (computed 70.8 MiB so far)\n",
      "2023-10-10 22:19:29,544 WARN memory.MemoryStore: Not enough space to cache rdd_147_2 in memory! (computed 70.8 MiB so far)\n",
      "2023-10-10 22:19:32,944 WARN memory.MemoryStore: Not enough space to cache rdd_147_1 in memory! (computed 47.1 MiB so far)\n",
      "2023-10-10 22:19:32,973 WARN memory.MemoryStore: Not enough space to cache rdd_147_0 in memory! (computed 70.8 MiB so far)\n",
      "2023-10-10 22:19:32,973 WARN memory.MemoryStore: Not enough space to cache rdd_147_2 in memory! (computed 70.8 MiB so far)\n",
      "2023-10-10 22:19:36,276 WARN memory.MemoryStore: Not enough space to cache rdd_147_1 in memory! (computed 47.1 MiB so far)\n",
      "2023-10-10 22:19:36,520 WARN memory.MemoryStore: Not enough space to cache rdd_147_0 in memory! (computed 70.8 MiB so far)\n",
      "2023-10-10 22:19:36,524 WARN memory.MemoryStore: Not enough space to cache rdd_147_2 in memory! (computed 70.8 MiB so far)\n",
      "2023-10-10 22:19:39,668 WARN memory.MemoryStore: Not enough space to cache rdd_147_1 in memory! (computed 47.1 MiB so far)\n",
      "2023-10-10 22:19:39,693 WARN memory.MemoryStore: Not enough space to cache rdd_147_0 in memory! (computed 70.8 MiB so far)\n",
      "2023-10-10 22:19:39,693 WARN memory.MemoryStore: Not enough space to cache rdd_147_2 in memory! (computed 70.8 MiB so far)\n",
      "2023-10-10 22:19:42,968 WARN memory.MemoryStore: Not enough space to cache rdd_147_0 in memory! (computed 47.1 MiB so far)\n",
      "2023-10-10 22:19:42,988 WARN memory.MemoryStore: Not enough space to cache rdd_147_2 in memory! (computed 70.8 MiB so far)\n",
      "2023-10-10 22:19:42,989 WARN memory.MemoryStore: Not enough space to cache rdd_147_1 in memory! (computed 70.8 MiB so far)\n",
      "2023-10-10 22:19:46,185 WARN memory.MemoryStore: Not enough space to cache rdd_147_1 in memory! (computed 47.1 MiB so far)\n",
      "2023-10-10 22:19:46,206 WARN memory.MemoryStore: Not enough space to cache rdd_147_2 in memory! (computed 70.8 MiB so far)\n",
      "2023-10-10 22:19:46,208 WARN memory.MemoryStore: Not enough space to cache rdd_147_0 in memory! (computed 70.8 MiB so far)\n",
      "2023-10-10 22:19:49,481 WARN memory.MemoryStore: Not enough space to cache rdd_147_2 in memory! (computed 47.1 MiB so far)\n",
      "2023-10-10 22:19:49,692 WARN memory.MemoryStore: Not enough space to cache rdd_147_0 in memory! (computed 70.8 MiB so far)\n",
      "2023-10-10 22:19:49,706 WARN memory.MemoryStore: Not enough space to cache rdd_147_1 in memory! (computed 70.8 MiB so far)\n",
      "2023-10-10 22:19:52,778 WARN memory.MemoryStore: Not enough space to cache rdd_147_1 in memory! (computed 47.1 MiB so far)\n",
      "2023-10-10 22:19:52,793 WARN memory.MemoryStore: Not enough space to cache rdd_147_2 in memory! (computed 70.8 MiB so far)\n",
      "2023-10-10 22:19:52,802 WARN memory.MemoryStore: Not enough space to cache rdd_147_0 in memory! (computed 70.8 MiB so far)\n",
      "2023-10-10 22:19:56,039 WARN memory.MemoryStore: Not enough space to cache rdd_147_2 in memory! (computed 47.1 MiB so far)\n",
      "2023-10-10 22:19:56,074 WARN memory.MemoryStore: Not enough space to cache rdd_147_1 in memory! (computed 70.8 MiB so far)\n",
      "2023-10-10 22:19:56,078 WARN memory.MemoryStore: Not enough space to cache rdd_147_0 in memory! (computed 70.8 MiB so far)\n"
     ]
    },
    {
     "name": "stderr",
     "output_type": "stream",
     "text": [
      "2023-10-10 22:19:59,411 WARN memory.MemoryStore: Not enough space to cache rdd_147_2 in memory! (computed 47.1 MiB so far)\n",
      "2023-10-10 22:19:59,438 WARN memory.MemoryStore: Not enough space to cache rdd_147_0 in memory! (computed 70.8 MiB so far)\n",
      "2023-10-10 22:19:59,490 WARN memory.MemoryStore: Not enough space to cache rdd_147_1 in memory! (computed 70.8 MiB so far)\n",
      "2023-10-10 22:20:02,723 WARN memory.MemoryStore: Not enough space to cache rdd_147_0 in memory! (computed 47.1 MiB so far)\n",
      "2023-10-10 22:20:02,742 WARN memory.MemoryStore: Not enough space to cache rdd_147_2 in memory! (computed 70.8 MiB so far)\n",
      "2023-10-10 22:20:02,747 WARN memory.MemoryStore: Not enough space to cache rdd_147_1 in memory! (computed 70.8 MiB so far)\n",
      "2023-10-10 22:20:06,258 WARN memory.MemoryStore: Not enough space to cache rdd_147_1 in memory! (computed 47.1 MiB so far)\n",
      "2023-10-10 22:20:06,279 WARN memory.MemoryStore: Not enough space to cache rdd_147_0 in memory! (computed 70.8 MiB so far)\n",
      "2023-10-10 22:20:06,279 WARN memory.MemoryStore: Not enough space to cache rdd_147_2 in memory! (computed 70.8 MiB so far)\n",
      "2023-10-10 22:20:09,760 WARN memory.MemoryStore: Not enough space to cache rdd_147_1 in memory! (computed 47.1 MiB so far)\n",
      "2023-10-10 22:20:09,794 WARN memory.MemoryStore: Not enough space to cache rdd_147_2 in memory! (computed 70.8 MiB so far)\n",
      "2023-10-10 22:20:09,796 WARN memory.MemoryStore: Not enough space to cache rdd_147_0 in memory! (computed 70.8 MiB so far)\n",
      "[Stage 413:==========================================>              (3 + 1) / 4]\r"
     ]
    },
    {
     "name": "stdout",
     "output_type": "stream",
     "text": [
      "Training Accuracy: 43.46%\n",
      "Test Accuracy: 43.49%\n"
     ]
    },
    {
     "name": "stderr",
     "output_type": "stream",
     "text": [
      "\r",
      "                                                                                \r"
     ]
    }
   ],
   "source": [
    "# Split the data into training and testing sets\n",
    "train_data, test_data = df.randomSplit([0.8, 0.2], seed=1234)\n",
    "\n",
    "# Define the architecture for the MLP model\n",
    "num_labels = train_data.select(\"label\").distinct().count()\n",
    "layers = [3, 5, 5, num_labels]\n",
    "\n",
    "mlp = MultilayerPerceptronClassifier(\n",
    "    layers=layers, \n",
    "    blockSize=128, \n",
    "    seed=1234, \n",
    "    maxIter=100, \n",
    "    featuresCol=\"features\", \n",
    "    labelCol=\"label\"\n",
    ")\n",
    "\n",
    "# Train the model\n",
    "model = mlp.fit(train_data)\n",
    "\n",
    "# Make predictions\n",
    "train_predictions = model.transform(train_data)\n",
    "test_predictions = model.transform(test_data)\n",
    "\n",
    "# Evaluate the model\n",
    "evaluator = MulticlassClassificationEvaluator(metricName=\"accuracy\")\n",
    "train_accuracy = evaluator.evaluate(train_predictions)\n",
    "test_accuracy = evaluator.evaluate(test_predictions)\n",
    "\n",
    "print(f\"Training Accuracy: {train_accuracy * 100:.2f}%\")\n",
    "print(f\"Test Accuracy: {test_accuracy * 100:.2f}%\")\n"
   ]
  },
  {
   "cell_type": "code",
   "execution_count": 15,
   "id": "dff1471f",
   "metadata": {},
   "outputs": [
    {
     "data": {
      "image/png": "[encoded data removed]",
      "text/plain": [
       "<Figure size 432x288 with 2 Axes>"
      ]
     },
     "metadata": {
      "needs_background": "light"
     },
     "output_type": "display_data"
    }
   ],
   "source": [
    "import matplotlib.pyplot as plt\n",
    "import itertools\n",
    "\n",
    "def plot_confusion_matrix(cm, classes, title='Confusion Matrix', cmap=plt.cm.Blues):\n",
    "    \"\"\"\n",
    "    This function prints and plots the confusion matrix.\n",
    "    \"\"\"\n",
    "    plt.imshow(cm, interpolation='nearest', cmap=cmap)\n",
    "    plt.title(title)\n",
    "    plt.colorbar()\n",
    "    tick_marks = range(len(classes))\n",
    "    plt.xticks(tick_marks, classes, rotation=45)\n",
    "    plt.yticks(tick_marks, classes)\n",
    "\n",
    "    thresh = cm.max() / 2.\n",
    "    for i, j in itertools.product(range(cm.shape[0]), range(cm.shape[1])):\n",
    "        # Use int() to round the float value to the nearest integer\n",
    "        plt.text(j, i, str(int(cm[i, j])),\n",
    "                 horizontalalignment=\"center\",\n",
    "                 color=\"white\" if cm[i, j] > thresh else \"black\")\n",
    "\n",
    "    plt.ylabel('True label')\n",
    "    plt.xlabel('Predicted label')\n",
    "    plt.tight_layout()\n",
    "    plt.show()\n",
    "\n",
    "# Assuming you've already computed the confusion_matrix and classes from the previous code snippets\n",
    "plot_confusion_matrix(confusion_matrix, classes)\n",
    "\n"
   ]
  },
  {
   "cell_type": "code",
   "execution_count": null,
   "id": "18f0946f",
   "metadata": {},
   "outputs": [],
   "source": []
  }
 ],
 "metadata": {
  "kernelspec": {
   "display_name": "Python 3 (ipykernel)",
   "language": "python",
   "name": "python3"
  },
  "language_info": {
   "codemirror_mode": {
    "name": "ipython",
    "version": 3
   },
   "file_extension": ".py",
   "mimetype": "text/x-python",
   "name": "python",
   "nbconvert_exporter": "python",
   "pygments_lexer": "ipython3",
   "version": "3.10.12"
  }
 },
 "nbformat": 4,
 "nbformat_minor": 5
}
